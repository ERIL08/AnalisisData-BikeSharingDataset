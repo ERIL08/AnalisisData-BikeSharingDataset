{
 "cells": [
  {
   "cell_type": "markdown",
   "metadata": {
    "id": "HUxMINMv-aaP"
   },
   "source": [
    "# Proyek Analisis Data: Bike Sharing Dataset\n",
    "- Kelompok :IF-3 Seaborn\n",
    "- Anggota : </br>\n",
    "10122112 - MOHAMAD SYERIL AKBAR\n",
    "<br>\n",
    "10122103 - MUHAMMAD FIQIH RAMANANDA\n",
    "<br>\n",
    "10122499 - JINAN MUMTAZ\n",
    "<br>\n",
    "10122496 - MUHAMMAD WILDAN\n",
    "<br>\n",
    "10122101 - LIDAN WISNU SAPUTRA\n",
    "</br>\n",
    "\n",
    "\n"
   ]
  },
  {
   "cell_type": "code",
   "execution_count": 1,
   "metadata": {
    "colab": {
     "base_uri": "https://localhost:8080/"
    },
    "id": "3_GolkyBwX0Q",
    "outputId": "b367263d-6039-400b-88d2-91e6e116ae0f"
   },
   "outputs": [
    {
     "ename": "ModuleNotFoundError",
     "evalue": "No module named 'google.colab'",
     "output_type": "error",
     "traceback": [
      "\u001b[1;31m---------------------------------------------------------------------------\u001b[0m",
      "\u001b[1;31mModuleNotFoundError\u001b[0m                       Traceback (most recent call last)",
      "Cell \u001b[1;32mIn[1], line 1\u001b[0m\n\u001b[1;32m----> 1\u001b[0m \u001b[38;5;28;01mfrom\u001b[39;00m \u001b[38;5;21;01mgoogle\u001b[39;00m\u001b[38;5;21;01m.\u001b[39;00m\u001b[38;5;21;01mcolab\u001b[39;00m \u001b[38;5;28;01mimport\u001b[39;00m drive\n\u001b[0;32m      2\u001b[0m drive\u001b[38;5;241m.\u001b[39mmount(\u001b[38;5;124m'\u001b[39m\u001b[38;5;124m/content/drive\u001b[39m\u001b[38;5;124m'\u001b[39m)\n",
      "\u001b[1;31mModuleNotFoundError\u001b[0m: No module named 'google.colab'"
     ]
    }
   ],
   "source": [
    "from google.colab import drive\n",
    "drive.mount('/content/drive')\n",
    "\n"
   ]
  },
  {
   "cell_type": "markdown",
   "metadata": {
    "id": "NBZsY_Dn-aaS"
   },
   "source": [
    "## Menentukan Pertanyaan Bisnis"
   ]
  },
  {
   "cell_type": "markdown",
   "metadata": {
    "id": "J-ISlH06-aaS"
   },
   "source": [
    "- 1.Berapakah Perbandingan dari pengguna sepeda Casual dan Register - 10122499 - JINAN MUMTAZ\n",
    "\n",
    "- 2.menghitung kecepatan angin pada tanggal (1/1/2011 hingga 3/1/2011) serta buat gambarannya -10122103 - MUHAMMAD FIQIH RAMANANDA\n",
    "- 3.analisis berapa banyak pendaftar ,casual dan jumlah serta buat visualisasi plot dari tanggal (1/1/2011 hingga 3/1/2011) dan jelaskan secara singkat analisismu - 10122101 - LIDAN WISNU SAPUTRA\n",
    "\n",
    "- 4.Berapa suhu penggunaan sepeda tertinggi dan di suhu berapakah yang paling banyak-10122112 - MOHAMAD SYERIL AKBAR\n",
    "\n",
    "- 5.menganalisis kondisi humidity(kelembapan) dan temp(temperature) pada tanggal-10122496 - MUHAMMAD WILDAN\n",
    "\n"
   ]
  },
  {
   "cell_type": "markdown",
   "metadata": {
    "id": "MajllOqj-aaS"
   },
   "source": [
    "## Menyaipkan semua library yang dibuthkan"
   ]
  },
  {
   "cell_type": "code",
   "execution_count": 2,
   "metadata": {
    "id": "hFE6KvUqk7Lx"
   },
   "outputs": [
    {
     "ename": "ModuleNotFoundError",
     "evalue": "No module named 'matplotlib'",
     "output_type": "error",
     "traceback": [
      "\u001b[1;31m---------------------------------------------------------------------------\u001b[0m",
      "\u001b[1;31mModuleNotFoundError\u001b[0m                       Traceback (most recent call last)",
      "Cell \u001b[1;32mIn[2], line 3\u001b[0m\n\u001b[0;32m      1\u001b[0m \u001b[38;5;28;01mimport\u001b[39;00m \u001b[38;5;21;01mpandas\u001b[39;00m \u001b[38;5;28;01mas\u001b[39;00m \u001b[38;5;21;01mpd\u001b[39;00m\n\u001b[0;32m      2\u001b[0m \u001b[38;5;28;01mimport\u001b[39;00m \u001b[38;5;21;01mnumpy\u001b[39;00m \u001b[38;5;28;01mas\u001b[39;00m \u001b[38;5;21;01mnp\u001b[39;00m\n\u001b[1;32m----> 3\u001b[0m \u001b[38;5;28;01mimport\u001b[39;00m \u001b[38;5;21;01mmatplotlib\u001b[39;00m\u001b[38;5;21;01m.\u001b[39;00m\u001b[38;5;21;01mpyplot\u001b[39;00m \u001b[38;5;28;01mas\u001b[39;00m \u001b[38;5;21;01mplt\u001b[39;00m\n\u001b[0;32m      4\u001b[0m \u001b[38;5;28;01mimport\u001b[39;00m \u001b[38;5;21;01mseaborn\u001b[39;00m \u001b[38;5;28;01mas\u001b[39;00m \u001b[38;5;21;01msns\u001b[39;00m\n",
      "\u001b[1;31mModuleNotFoundError\u001b[0m: No module named 'matplotlib'"
     ]
    }
   ],
   "source": [
    "import pandas as pd\n",
    "import numpy as np\n",
    "import matplotlib.pyplot as plt\n",
    "import seaborn as sns"
   ]
  },
  {
   "cell_type": "code",
   "execution_count": null,
   "metadata": {
    "id": "bzkhzIp8xpQh"
   },
   "outputs": [],
   "source": [
    "day_data = pd.read_csv('/Compressed/Bike-sharing-dataset/day.csv')\n",
    "hour_data = pd.read_csv('/Compressed/Bike-sharing-dataset/hour.csv')"
   ]
  },
  {
   "cell_type": "markdown",
   "metadata": {
    "id": "HbnQXLRb-aaT"
   },
   "source": [
    "## Data Wrangling"
   ]
  },
  {
   "cell_type": "markdown",
   "metadata": {
    "id": "xhvBPY9L-aaT"
   },
   "source": [
    "### Gathering Data"
   ]
  },
  {
   "cell_type": "code",
   "execution_count": null,
   "metadata": {
    "colab": {
     "base_uri": "https://localhost:8080/",
     "height": 605
    },
    "id": "8VsL1D-Tyg1O",
    "outputId": "b60edcf4-ac06-4b3e-d50f-13a1fa271021"
   },
   "outputs": [],
   "source": [
    "print('Day Data Head: ')\n",
    "print(day_data.head(),\"\\n\")\n",
    "print('Hour Data Head: ')\n",
    "#print(hour_data.head())\n",
    "hour_data.head()"
   ]
  },
  {
   "cell_type": "markdown",
   "metadata": {
    "id": "BeHbkEWE-aaU"
   },
   "source": [
    "### Assessing Data"
   ]
  },
  {
   "cell_type": "code",
   "execution_count": null,
   "metadata": {
    "id": "lXIv2Eql0w3R"
   },
   "outputs": [],
   "source": [
    "day_summary = day_data.describe()\n",
    "day_missing_values = day_data.isnull().sum()\n",
    "\n",
    "hour_summary = hour_data.describe()\n",
    "hour_missing_values = hour_data.isnull().sum()"
   ]
  },
  {
   "cell_type": "code",
   "execution_count": null,
   "metadata": {
    "colab": {
     "base_uri": "https://localhost:8080/"
    },
    "id": "fKSaXSpd0zK5",
    "outputId": "240c5571-9fcf-4ff5-d53e-9904ec658757"
   },
   "outputs": [],
   "source": [
    "print('Day Data Summary: ')\n",
    "print(day_summary,\"\\n\")\n",
    "print('Day Data Missing Values: ')\n",
    "print(day_missing_values,\"\\n\")\n",
    "\n",
    "print('Hour Data Summary: ')\n",
    "print(hour_summary,\"\\n\")\n",
    "print('Hour Data Missing Values: ')\n",
    "print(hour_missing_values,\"\\n\")"
   ]
  },
  {
   "cell_type": "markdown",
   "metadata": {
    "id": "oRjGR4N8-aaU"
   },
   "source": []
  },
  {
   "cell_type": "markdown",
   "metadata": {
    "id": "8q4X_T5e-aaU"
   },
   "source": [
    "### Cleaning Data"
   ]
  },
  {
   "cell_type": "markdown",
   "metadata": {
    "id": "UupWtepn-aaU"
   },
   "source": [
    "Cleaning data tidak perlu dilakukan"
   ]
  },
  {
   "cell_type": "markdown",
   "metadata": {
    "id": "ZPxSDUhj-aaU"
   },
   "source": [
    "## Exploratory Data Analysis (EDA)"
   ]
  },
  {
   "cell_type": "markdown",
   "metadata": {
    "id": "ZV0WrBRX-aaU"
   },
   "source": [
    "### Explore ..."
   ]
  },
  {
   "cell_type": "code",
   "execution_count": null,
   "metadata": {
    "colab": {
     "base_uri": "https://localhost:8080/"
    },
    "id": "L6Qq0DC5-aaU",
    "outputId": "6f33a6c6-c0dc-4540-89c1-a518ccb32ee1"
   },
   "outputs": [],
   "source": [
    "# Data\n",
    "day_data = {\n",
    "    'Casual': 848.176471,\n",
    "    'Registered': 3656.172367\n",
    "}\n",
    "\n",
    "hour_data = {\n",
    "    'Casual': 35.676218,\n",
    "    'Registered': 153.786869\n",
    "}\n",
    "print(day_data)\n",
    "print(hour_data)"
   ]
  },
  {
   "cell_type": "code",
   "execution_count": null,
   "metadata": {
    "colab": {
     "base_uri": "https://localhost:8080/"
    },
    "id": "JFX71MqPjo23",
    "outputId": "fbf2f7b5-115c-49ef-83d1-0a83b9b50c94"
   },
   "outputs": [],
   "source": [
    "# day_data = pd.read_csv('/content/drive/MyDrive/tugas/day.csv')\n",
    "\n",
    "print(day_data['dteday'])"
   ]
  },
  {
   "cell_type": "markdown",
   "metadata": {
    "id": "EUcT4h2P-aaV"
   },
   "source": [
    "## Visualization & Explanatory Analysis"
   ]
  },
  {
   "cell_type": "markdown",
   "metadata": {
    "id": "GPDfBxXF-aaV"
   },
   "source": [
    "### Pertanyaan 1: Berapakah Perbandingan dari pengguna sepeda Casual dan Register"
   ]
  },
  {
   "cell_type": "code",
   "execution_count": null,
   "metadata": {
    "colab": {
     "base_uri": "https://localhost:8080/",
     "height": 487
    },
    "id": "Y4sXKtnl-aaV",
    "outputId": "434326b6-8670-4822-8453-9573fa9795a0"
   },
   "outputs": [],
   "source": [
    "\n",
    "# Plotting Day Data\n",
    "plt.figure(figsize=(10, 5))\n",
    "plt.bar(day_data.keys(), day_data.values(), color=['blue', 'orange'])\n",
    "plt.title('Perbandingan Pengguna Sepeda Casual dan Registered (Data Harian)')\n",
    "plt.xlabel('Tipe Pengguna Sepeda')\n",
    "plt.ylabel('Jumlah Rata-rata')\n",
    "plt.show()\n",
    "\n",
    "\n"
   ]
  },
  {
   "cell_type": "code",
   "execution_count": null,
   "metadata": {
    "colab": {
     "base_uri": "https://localhost:8080/",
     "height": 487
    },
    "id": "t2hOjzRZ3hOK",
    "outputId": "f517acfa-087e-4697-8dab-891ee0a116d7"
   },
   "outputs": [],
   "source": [
    "# Plotting Hour Data\n",
    "plt.figure(figsize=(10, 5))\n",
    "plt.bar(hour_data.keys(), hour_data.values(), color=['green', 'red'])\n",
    "plt.title('Perbandingan Pengguna Sepeda Casual dan Registered (Data Jam)')\n",
    "plt.xlabel('Tipe Pengguna Sepeda')\n",
    "plt.ylabel('Jumlah Rata-rata')\n",
    "plt.show()"
   ]
  },
  {
   "cell_type": "markdown",
   "metadata": {
    "id": "n16kRxAH4ySi"
   },
   "source": [
    "CONCLUSION PERTANYAAN 1\n",
    "\n",
    "Data Harian:\n",
    "\n",
    "* Jumlah rata-rata pengguna sepeda terdaftar (Registered) pada data harian (hari) jauh lebih tinggi dibandingkan dengan pengguna sepeda casual.\n",
    "Perbandingan jumlah rata-rata antara pengguna sepeda casual dan terdaftar terlihat signifikan, dengan pengguna sepeda terdaftar memiliki kontribusi yang lebih besar terhadap total penggunaan sepeda harian.\n",
    "\n",
    "Data Perjam:\n",
    "\n",
    "* Jumlah rata-rata pengguna sepeda terdaftar (Registered) pada data per jam juga jauh lebih tinggi dibandingkan dengan pengguna sepeda casual.\n",
    "Seperti pada data harian, perbandingan jumlah rata-rata antara pengguna sepeda casual dan terdaftar tetap signifikan, dengan pengguna sepeda terdaftar memberikan kontribusi yang lebih besar terhadap total penggunaan sepeda per jam.\n",
    "\n",
    "Kesimpulan Umum:\n",
    "\n",
    "* Pengguna sepeda terdaftar memiliki dampak yang lebih besar dibandingkan dengan pengguna sepeda casual, baik pada tingkat harian maupun per jam.\n",
    "Perbandingan ini dapat memberikan wawasan tambahan tentang pola penggunaan sepeda, yang dapat berguna dalam merencanakan dan mengelola sumber daya sepeda atau fasilitas penggunaan sepeda."
   ]
  },
  {
   "cell_type": "markdown",
   "metadata": {
    "id": "xYNWUbUh-aaV"
   },
   "source": [
    "### Pertanyaan 2: menghitung kecepatan angin pada tanggal (1/1/2011 hingga 3/1/2011) serta buat gambarannya\n",
    "\n",
    "---\n",
    "\n"
   ]
  },
  {
   "cell_type": "code",
   "execution_count": null,
   "metadata": {
    "colab": {
     "base_uri": "https://localhost:8080/",
     "height": 581
    },
    "id": "3SXLx8avBVAN",
    "outputId": "3dd00f47-38c3-4023-d2f1-2504b57f9a13"
   },
   "outputs": [],
   "source": [
    "# Anggap kita memiliki DataFrame bernama 'day_data'\n",
    "# Jika tidak, gantilah dengan nama variabel yang sesuai yang Anda gunakan\n",
    "# day_data = pd.read_csv(\"path_to_your_day_data.csv\")\n",
    "\n",
    "# Konversi 'dteday' ke format datetime\n",
    "day_data['dteday'] = pd.to_datetime(day_data['dteday'])\n",
    "\n",
    "# Filter data dari 1/1/2011 hingga 3/1/2011\n",
    "filtered_data = day_data[(day_data['dteday'] >= '2011-01-01') & (day_data['dteday'] <= '2011-03-01')]\n",
    "\n",
    "# Hitung rata-rata kecepatan angin\n",
    "average_windspeed = filtered_data['windspeed'].mean()\n",
    "\n",
    "# Tampilkan hasil\n",
    "print(f'Rata-rata Kecepatan Angin (1/1/2011 hingga 3/1/2011): {average_windspeed}')\n",
    "\n",
    "# Visualisasi kecepatan angin\n",
    "plt.figure(figsize=(12, 6))\n",
    "plt.plot(filtered_data['dteday'], filtered_data['windspeed'], label='Kecepatan Angin', marker='o')\n",
    "plt.axhline(y=average_windspeed, color='r', linestyle='--', label='Rata-rata Kecepatan Angin')\n",
    "plt.title('Kecepatan Angin (1/1/2011 hingga 3/1/2011)')\n",
    "plt.xlabel('Tanggal')\n",
    "plt.ylabel('Kecepatan Angin')\n",
    "plt.legend()\n",
    "plt.grid(True)\n",
    "plt.show()\n"
   ]
  },
  {
   "cell_type": "markdown",
   "metadata": {
    "id": "KdoI7KcTTq5j"
   },
   "source": [
    "CONCLUSION PERTANYAAN 2\n",
    "\n",
    "Rata-rata Kecepatan Angin:\n",
    "\n",
    "Rata-rata kecepatan angin selama periode tersebut adalah [nilai rata-rata kecepatan angin.\n",
    "Visualisasi Kecepatan Angin:\n",
    "\n",
    "Visualisasi menunjukkan fluktuasi kecepatan angin dari hari ke hari.\n",
    "Garis putus-putus merah menunjukkan rata-rata kecepatan angin selama periode tersebut.\n",
    "Observasi Umum:\n",
    "\n",
    "Berdasarkan grafik, terlihat variasi kecepatan angin yang mungkin dipengaruhi oleh faktor-faktor cuaca atau alam selama periode tersebut.\n",
    "Peningkatan fluktuasi atau perubahan signifikan mungkin menandakan perubahan cuaca atau kondisi lingkungan yang dapat dianalisis lebih lanjut."
   ]
  },
  {
   "cell_type": "markdown",
   "metadata": {
    "id": "u09TctcR_m1z"
   },
   "source": [
    "PERTANYAAN 3: analisis berapa banyak pendaftar ,casual dan jumlah serta buat visualisasi plot dari tanggal (1/1/2011 hingga 3/1/2011) dan jelaskan secara singkat analisismu\n"
   ]
  },
  {
   "cell_type": "code",
   "execution_count": null,
   "metadata": {
    "colab": {
     "base_uri": "https://localhost:8080/",
     "height": 1000
    },
    "id": "lbZ-fZpwIlRt",
    "outputId": "5bf240e1-0efe-41c5-ab2f-a23ebfa8ea37"
   },
   "outputs": [],
   "source": [
    "# Anggap kita memiliki DataFrame bernama 'day_df'\n",
    "# Jika tidak, gantilah dengan nama variabel yang sesuai yang Anda gunakan\n",
    "# day_df = pd.read_csv(\"path_to_your_day_data.csv\")\n",
    "\n",
    "# Konversi 'dteday' ke format datetime\n",
    "day_data['dteday'] = pd.to_datetime(day_data['dteday'])\n",
    "\n",
    "\n",
    "# Filter data dari 1/1/2011 hingga 3/1/2011\n",
    "filtered_data = day_data[(day_data['dteday'] >= '2011-01-01') & (day_data['dteday'] <= '2011-03-01')]\n",
    "\n",
    "# Plotting casual data\n",
    "plt.figure(figsize=(12, 6))\n",
    "plt.plot(filtered_data['dteday'], filtered_data['casual'], label='Casual', marker='o')\n",
    "plt.title('Sewa Sepeda Kasual (1/1/2011 hingga 3/1/2011)')\n",
    "plt.xlabel('Tanggal')\n",
    "plt.ylabel('Jumlah')\n",
    "plt.legend()\n",
    "plt.grid(True)\n",
    "plt.show()\n",
    "\n",
    "# Plotting registered data\n",
    "plt.figure(figsize=(12, 6))\n",
    "plt.plot(filtered_data['dteday'], filtered_data['registered'], label='Terdaftar', marker='o')\n",
    "plt.title('Sewa Sepeda Terdaftar (1/1/2011 hingga 3/1/2011)')\n",
    "plt.xlabel('Tanggal')\n",
    "plt.ylabel('Jumlah')\n",
    "plt.legend()\n",
    "plt.grid(True)\n",
    "plt.show()\n",
    "\n",
    "# Plotting count data\n",
    "plt.figure(figsize=(12, 6))\n",
    "plt.plot(filtered_data['dteday'], filtered_data['cnt'], label='Total', marker='o')\n",
    "plt.title('Total Sewa Sepeda (1/1/2011 hingga 3/1/2011)')\n",
    "plt.xlabel('Tanggal')\n",
    "plt.ylabel('Jumlah')\n",
    "plt.legend()\n",
    "plt.grid(True)\n",
    "plt.show()\n"
   ]
  },
  {
   "cell_type": "markdown",
   "metadata": {
    "id": "BhmmSkN0mu0_"
   },
   "source": [
    "CONCLUSION PERTANYAAN 3\n",
    "\n",
    "Berdasarkan visualisasi untuk sewa sepeda kasual, terdaftar, dan total sepeda ('count') dari 1/1/2011 hingga data pertama pada 1/3/2011, dapat diambil beberapa pengamatan sebagai berikut:\n",
    "\n",
    "Sewa Sepeda Kasual:\n",
    "\n",
    "Jumlah sewa sepeda kasual menunjukkan beberapa fluktuasi selama periode yang diamati.\n",
    "Terdapat peningkatan yang cukup signifikan pada sewa kasual di sekitar akhir periode yang diamati (1/3/2011).\n",
    "Sewa Sepeda Terdaftar:\n",
    "\n",
    "Sewa sepeda terdaftar menunjukkan pola yang lebih konsisten dibandingkan dengan sewa kasual.\n",
    "Terdapat peningkatan yang stabil pada sewa terdaftar sepanjang periode yang diamati.\n",
    "Total Sewa Sepeda (Count):\n",
    "\n",
    "Total jumlah sewa sepeda (jumlah sewa kasual dan terdaftar) menunjukkan tren peningkatan secara keseluruhan.\n",
    "Jumlah total secara utamanya dipengaruhi oleh pertumbuhan jumlah sewa terdaftar, yang memberikan kontribusi pada tren keseluruhan yang naik.\n",
    "Observasi Umum:\n",
    "\n",
    "Tampaknya sewa sepeda kasual dan terdaftar dipengaruhi oleh faktor atau tren eksternal, yang dapat diteliti lebih lanjut.\n",
    "Menarik untuk mengeksplorasi adanya acara atau promosi yang mungkin berkontribusi pada pola sewa sepeda yang diamati."
   ]
  },
  {
   "cell_type": "markdown",
   "metadata": {
    "id": "sAdI-iQpSo1r"
   },
   "source": [
    "PERTANYAAN 4: Berapa suhu penggunaan sepeda tertinggi dan di suhu berapakah yang paling banyak"
   ]
  },
  {
   "cell_type": "code",
   "execution_count": null,
   "metadata": {
    "colab": {
     "base_uri": "https://localhost:8080/",
     "height": 1000
    },
    "id": "3Zv00tY_Sx_F",
    "outputId": "97876ee6-4015-4598-9855-3464ec759acc"
   },
   "outputs": [],
   "source": [
    "day_data = pd.read_csv('/content/drive/MyDrive/tugas/day.csv')\n",
    "hour_data = pd.read_csv('/content/drive/MyDrive/tugas/hour.csv')\n",
    "\n",
    "# Plot day data\n",
    "plt.figure(figsize=(12, 6))\n",
    "sns.scatterplot(x='temp', y='cnt', data=day_data, color='blue', alpha=0.6)\n",
    "max_temp_day = day_data.loc[day_data['cnt'].idxmax()]['temp']\n",
    "plt.scatter(x=max_temp_day, y=day_data['cnt'].max(), color='red', marker='X', s=200, label='Max Usage')\n",
    "plt.title('Hubungan Antara Suhu dan Penggunaan Sepeda (Data Day)')\n",
    "plt.xlabel('Suhu')\n",
    "plt.ylabel('Total Penggunaan Sepeda')\n",
    "plt.legend()\n",
    "plt.grid(True)\n",
    "plt.show()\n",
    "\n",
    "# Plot hour data\n",
    "plt.figure(figsize=(12, 6))\n",
    "sns.scatterplot(x='temp', y='cnt', data=hour_data, color='green', alpha=0.6)\n",
    "max_temp_hour = hour_data.loc[hour_data['cnt'].idxmax()]['temp']\n",
    "plt.scatter(x=max_temp_hour, y=hour_data['cnt'].max(), color='red', marker='X', s=200, label='Max Usage')\n",
    "plt.title('Hubungan Antara Suhu dan Penggunaan Sepeda (Data Hour)')\n",
    "plt.xlabel('Suhu')\n",
    "plt.ylabel('Total Penggunaan Sepeda')\n",
    "plt.legend()\n",
    "plt.grid(True)\n",
    "plt.show()"
   ]
  },
  {
   "cell_type": "markdown",
   "metadata": {
    "id": "f9vqVRex-aaV"
   },
   "source": [
    "\n",
    "CONCLUSION PERTANYAAN 4\n",
    "* Dari keduanya, dapat disimpulkan bahwa ada korelasi positif antara suhu dan penggunaan sepeda. Hal ini sesuai dengan harapan umum, di mana orang cenderung lebih suka bersepeda saat cuaca lebih hangat.\n",
    "* Titik tertinggi penggunaan sepeda (yang ditandai dengan marker merah) memberikan informasi menarik tentang suhu di mana sepeda paling banyak digunakan."
   ]
  },
  {
   "cell_type": "markdown",
   "metadata": {
    "id": "XfQAwkcxtCuB"
   },
   "source": [
    "PERTANYAAN 5 menganalisis kondisi humidity(kelembapan) dan temp(temperature) pada tanggal"
   ]
  },
  {
   "cell_type": "code",
   "execution_count": null,
   "metadata": {
    "colab": {
     "base_uri": "https://localhost:8080/",
     "height": 1000
    },
    "id": "XCaGXdB9GCm9",
    "outputId": "3d0f2f67-4bef-43d2-8703-cafbe1d6f100"
   },
   "outputs": [],
   "source": [
    "# Anggap kita memiliki DataFrame bernama 'day_data'\n",
    "# Jika tidak, gantilah dengan nama variabel yang sesuai yang Anda gunakan\n",
    "# day_data = pd.read_csv(\"path_to_your_day_data.csv\")\n",
    "\n",
    "# Konversi 'dteday' ke format datetime\n",
    "day_data['dteday'] = pd.to_datetime(day_data['dteday'])\n",
    "\n",
    "# Filter data dari 1/1/2011 hingga 3/1/2011\n",
    "filtered_data = day_data[(day_data['dteday'] >= '2011-01-01') & (day_data['dteday'] <= '2011-03-01')]\n",
    "\n",
    "# Hitung rata-rata temperatur\n",
    "average_temp = filtered_data['temp'].mean()\n",
    "\n",
    "# Hitung rata-rata kelembaban\n",
    "average_hum = filtered_data['hum'].mean()\n",
    "\n",
    "# Tampilkan hasil\n",
    "print(f'Rata-rata Temperatur (1/1/2011 hingga 3/1/2011): {average_temp}')\n",
    "print(f'Rata-rata Kelembaban (1/1/2011 hingga 3/1/2011): {average_hum}')\n",
    "\n",
    "# Visualisasi Temperatur\n",
    "plt.figure(figsize=(12, 6))\n",
    "plt.plot(filtered_data['dteday'], filtered_data['temp'], label='Temperatur', marker='o')\n",
    "plt.axhline(y=average_temp, color='r', linestyle='--', label='Rata-rata Temperatur')\n",
    "plt.title('Temperatur (1/1/2011 hingga 3/1/2011)')\n",
    "plt.xlabel('Tanggal')\n",
    "plt.ylabel('Temperatur')\n",
    "plt.legend()\n",
    "plt.grid(True)\n",
    "plt.show()\n",
    "\n",
    "# Visualisasi Kelembaban\n",
    "plt.figure(figsize=(12, 6))\n",
    "plt.plot(filtered_data['dteday'], filtered_data['hum'], label='Kelembaban', marker='o')\n",
    "plt.axhline(y=average_hum, color='r', linestyle='--', label='Rata-rata Kelembaban')\n",
    "plt.title('Kelembaban (1/1/2011 hingga 3/1/2011)')\n",
    "plt.xlabel('Tanggal')\n",
    "plt.ylabel('Kelembaban')\n",
    "plt.legend()\n",
    "plt.grid(True)\n",
    "plt.show()\n"
   ]
  },
  {
   "cell_type": "markdown",
   "metadata": {
    "id": "Iy86h3sKivFg"
   },
   "source": [
    "CONCLUSION PERTANYAAN 5\n",
    "\n",
    "- Rata-rata Temperatur:\n",
    "\n",
    "Rata-rata temperatur selama periode tersebut adalah [nilai rata-rata temperatur].\n",
    "Rata-rata Kelembaban:\n",
    "\n",
    "Rata-rata kelembaban selama periode tersebut adalah [nilai rata-rata kelembaban].\n",
    "Visualisasi Temperatur:\n",
    "\n",
    "Grafik menunjukkan fluktuasi temperatur dari hari ke hari.\n",
    "Garis putus-putus merah menunjukkan rata-rata temperatur selama periode tersebut.\n",
    "Visualisasi Kelembaban:\n",
    "\n",
    "Grafik menunjukkan fluktuasi kelembaban dari hari ke hari.\n",
    "Garis putus-putus merah menunjukkan rata-rata kelembaban selama periode tersebut.\n",
    "Observasi Umum:\n",
    "\n",
    "Berdasarkan grafik, terlihat variasi suhu dan kelembaban selama periode tersebut.\n",
    "Perubahan signifikan dalam suhu atau kelembaban dapat memberikan wawasan tentang kondisi cuaca atau perubahan musiman."
   ]
  },
  {
   "cell_type": "markdown",
   "metadata": {
    "id": "3W1spVLy-aaV"
   },
   "source": []
  },
  {
   "cell_type": "markdown",
   "metadata": {
    "id": "4cUBdsnW-aaV"
   },
   "source": []
  }
 ],
 "metadata": {
  "colab": {
   "provenance": []
  },
  "kernelspec": {
   "display_name": "Python 3 (ipykernel)",
   "language": "python",
   "name": "python3"
  },
  "language_info": {
   "codemirror_mode": {
    "name": "ipython",
    "version": 3
   },
   "file_extension": ".py",
   "mimetype": "text/x-python",
   "name": "python",
   "nbconvert_exporter": "python",
   "pygments_lexer": "ipython3",
   "version": "3.11.0"
  },
  "vscode": {
   "interpreter": {
    "hash": "972b3bf27e332e87b5379f2791f6ef9dfc79c71018c370b0d7423235e20fe4d7"
   }
  }
 },
 "nbformat": 4,
 "nbformat_minor": 4
}
